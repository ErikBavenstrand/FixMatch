{
 "cells": [
  {
   "cell_type": "markdown",
   "metadata": {
    "id": "bvgL6VOouCx8"
   },
   "source": [
    "# Initializations etc."
   ]
  },
  {
   "cell_type": "markdown",
   "metadata": {
    "id": "jkXbsznM3DRm"
   },
   "source": [
    "## Imports"
   ]
  },
  {
   "cell_type": "code",
   "execution_count": 651,
   "metadata": {
    "colab": {
     "base_uri": "https://localhost:8080/",
     "height": 715
    },
    "id": "2a_aYlW4zx32",
    "outputId": "9ea560f5-7668-45b0-b1fc-93b170d6f1a3"
   },
   "outputs": [
    {
     "name": "stdout",
     "output_type": "stream",
     "text": [
      "Requirement already up-to-date: tensorflow-addons in /home/erikb/.pyenv/versions/3.8.2/envs/sci/lib/python3.8/site-packages (0.11.2)\n",
      "Requirement already satisfied, skipping upgrade: typeguard>=2.7 in /home/erikb/.pyenv/versions/3.8.2/envs/sci/lib/python3.8/site-packages (from tensorflow-addons) (2.9.1)\n",
      "Requirement already satisfied: tqdm in /home/erikb/.pyenv/versions/3.8.2/envs/sci/lib/python3.8/site-packages (4.28.1)\n"
     ]
    }
   ],
   "source": [
    "import math\n",
    "import os\n",
    "\n",
    "import tensorflow as tf\n",
    "import tensorflow_datasets as tfds\n",
    "import numpy as np\n",
    "import matplotlib\n",
    "import matplotlib.ticker as ticker\n",
    "import matplotlib.pyplot as plt\n",
    "import matplotlib.cm as cm\n",
    "\n",
    "from tensorflow.keras.preprocessing.image import load_img, img_to_array, save_img, array_to_img\n",
    "from tensorflow.keras.datasets import cifar10\n",
    "from tensorflow.keras.layers import Input, Conv2D, BatchNormalization, ReLU, Dropout, GlobalAveragePooling2D, Dense, Softmax, Activation, MaxPooling2D, Flatten, AveragePooling2D\n",
    "from tensorflow.keras import Model, Sequential\n",
    "from zipfile import ZipFile\n",
    "\n",
    "!pip install -U tensorflow-addons\n",
    "import tensorflow_addons as tfa\n",
    "\n",
    "!pip install tqdm\n",
    "from tqdm import tqdm_notebook as tqdm"
   ]
  },
  {
   "cell_type": "markdown",
   "metadata": {
    "id": "AKvDXVTDuXxN"
   },
   "source": [
    "## Globals"
   ]
  },
  {
   "cell_type": "code",
   "execution_count": 652,
   "metadata": {
    "id": "RvyI-fDxuXin"
   },
   "outputs": [],
   "source": [
    "AUTO = tf.data.experimental.AUTOTUNE\n",
    "IMG_WIDTH = 32\n",
    "IMG_HEIGHT = 32\n",
    "CHANNELS = 3\n",
    "IMG_SHAPE = (IMG_WIDTH, IMG_HEIGHT, CHANNELS)\n",
    "CLASSES = 10\n",
    "TOTAL_NUM_TRAIN_SAMPLES = 50000"
   ]
  },
  {
   "cell_type": "markdown",
   "metadata": {
    "id": "yjDgrzHkwx0T"
   },
   "source": [
    "# Datasets & Augmentations"
   ]
  },
  {
   "cell_type": "code",
   "execution_count": 756,
   "metadata": {
    "id": "E0D2ihlN1Mfu"
   },
   "outputs": [],
   "source": [
    "##########\n",
    "# Cutout #\n",
    "##########\n",
    "def cutout(image):\n",
    "    size = tf.cast(\n",
    "        tf.random.uniform([], minval=0, maxval=0.5) * IMG_WIDTH, tf.int32)\n",
    "    if size <= 0:\n",
    "        return image\n",
    "\n",
    "    height_loc = tf.random.uniform([],\n",
    "                                   minval=0,\n",
    "                                   maxval=IMG_WIDTH,\n",
    "                                   dtype=tf.int32)\n",
    "    width_loc = tf.random.uniform([],\n",
    "                                  minval=0,\n",
    "                                  maxval=IMG_HEIGHT,\n",
    "                                  dtype=tf.int32)\n",
    "    image = tf.expand_dims(image, axis=0)\n",
    "    image = tfa.image.random_cutout(image, size)\n",
    "    return tf.squeeze(image)\n",
    "\n",
    "\n",
    "######################\n",
    "# Weak augmentations #\n",
    "######################\n",
    "def shift(image):\n",
    "    pixels = tf.cast(\n",
    "        tf.random.uniform([], minval=-0.125, maxval=0.125) * IMG_WIDTH,\n",
    "        tf.int32)\n",
    "    return tf.roll(image, [pixels, pixels], [0, 1])\n",
    "\n",
    "\n",
    "def mirror(image):\n",
    "    return tf.image.random_flip_left_right(image)\n",
    "\n",
    "\n",
    "########################\n",
    "# Strong augmentations #\n",
    "########################\n",
    "def autocontrast(image):\n",
    "    def scale_channel(channel):\n",
    "        lo = tf.cast(tf.reduce_min(channel), tf.float32)\n",
    "        hi = tf.cast(tf.reduce_max(channel), tf.float32)\n",
    "\n",
    "        def scale_values(im):\n",
    "            scale = 255.0 / (hi - lo)\n",
    "            offset = -lo * scale\n",
    "            im = tf.cast(im, tf.float32) * scale + offset\n",
    "            return tf.saturate_cast(im, tf.uint8)\n",
    "\n",
    "        result = tf.cond(hi > lo, lambda: scale_values(channel),\n",
    "                         lambda: channel)\n",
    "        return result\n",
    "\n",
    "    s1 = scale_channel(image[:, :, 0])\n",
    "    s2 = scale_channel(image[:, :, 1])\n",
    "    s3 = scale_channel(image[:, :, 2])\n",
    "    image = tf.stack([s1, s2, s3], 2)\n",
    "    return image\n",
    "\n",
    "\n",
    "def brightness(image):\n",
    "    factor = tf.random.uniform([], minval=0.05, maxval=0.95)\n",
    "    degenerate = tf.zeros_like(image)\n",
    "    return blend(degenerate, image, factor)\n",
    "\n",
    "\n",
    "def color(image):\n",
    "    factor = tf.random.uniform([], minval=0.05, maxval=0.95)\n",
    "    degenerate = tf.image.grayscale_to_rgb(tf.image.rgb_to_grayscale(image))\n",
    "    return blend(degenerate, image, factor)\n",
    "\n",
    "\n",
    "def contrast(image):\n",
    "    factor = tf.random.uniform([], minval=0.05, maxval=0.95)\n",
    "    grayscale_im = tf.image.rgb_to_grayscale(image)\n",
    "    mean = tf.reduce_mean(tf.cast(grayscale_im, tf.float32))\n",
    "    mean = tf.saturate_cast(mean + 0.5, tf.uint8)\n",
    "\n",
    "    degenerate = tf.ones_like(grayscale_im, dtype=tf.uint8) * mean\n",
    "    degenerate = tf.image.grayscale_to_rgb(degenerate)\n",
    "\n",
    "    return blend(degenerate, image, factor)\n",
    "\n",
    "\n",
    "def equalize(image):\n",
    "    def scale_channel(im, c):\n",
    "        im = tf.cast(im[:, :, c], tf.int32)\n",
    "\n",
    "        histo = tf.histogram_fixed_width(im, [0, 255], nbins=256)\n",
    "\n",
    "        nonzero = tf.where(tf.not_equal(histo, 0))\n",
    "        nonzero_histo = tf.reshape(tf.gather(histo, nonzero), [-1])\n",
    "        step = (tf.reduce_sum(nonzero_histo) - nonzero_histo[-1]) // 255\n",
    "\n",
    "        def build_lut(histo, step):\n",
    "            lut = (tf.cumsum(histo) + (step // 2)) // step\n",
    "            lut = tf.concat([[0], lut[:-1]], 0)\n",
    "            return tf.clip_by_value(lut, 0, 255)\n",
    "\n",
    "        result = tf.cond(tf.equal(step, 0), lambda: im,\n",
    "                         lambda: tf.gather(build_lut(histo, step), im))\n",
    "\n",
    "        return tf.cast(result, tf.uint8)\n",
    "\n",
    "    s1 = scale_channel(image, 0)\n",
    "    s2 = scale_channel(image, 1)\n",
    "    s3 = scale_channel(image, 2)\n",
    "    image = tf.stack([s1, s2, s3], 2)\n",
    "    return image\n",
    "\n",
    "\n",
    "def identity(image):\n",
    "    return image\n",
    "\n",
    "\n",
    "def posterize(image):\n",
    "    bits = tf.random.uniform([], minval=4, maxval=9, dtype=tf.int32)\n",
    "    shift = tf.cast(8 - bits, image.dtype)\n",
    "    return tf.bitwise.left_shift(tf.bitwise.right_shift(image, shift), shift)\n",
    "\n",
    "\n",
    "def rotate(image):\n",
    "    degrees = tf.random.uniform([], minval=-30, maxval=30)\n",
    "    degrees_to_radians = math.pi / 180.0\n",
    "    radians = degrees * degrees_to_radians\n",
    "\n",
    "    image = tfa.image.transform_ops.rotate(wrap(image), radians)\n",
    "    return unwrap(image)\n",
    "\n",
    "\n",
    "def sharpness(image):\n",
    "    factor = tf.random.uniform([], minval=0.05, maxval=0.95)\n",
    "    orig_im = image\n",
    "    image = tf.cast(image, tf.float32)\n",
    "    image = tf.expand_dims(image, 0)\n",
    "    kernel = tf.constant([[1, 1, 1], [1, 5, 1], [1, 1, 1]],\n",
    "                         dtype=tf.float32,\n",
    "                         shape=[3, 3, 1, 1]) / 13.\n",
    "    kernel = tf.tile(kernel, [1, 1, 3, 1])\n",
    "    strides = [1, 1, 1, 1]\n",
    "    degenerate = tf.nn.depthwise_conv2d(image,\n",
    "                                        kernel,\n",
    "                                        strides,\n",
    "                                        padding='VALID',\n",
    "                                        dilations=[1, 1])\n",
    "    degenerate = tf.squeeze(tf.saturate_cast(degenerate, tf.uint8), [0])\n",
    "\n",
    "    mask = tf.ones_like(degenerate)\n",
    "    padded_mask = tf.pad(mask, [[1, 1], [1, 1], [0, 0]])\n",
    "    padded_degenerate = tf.pad(degenerate, [[1, 1], [1, 1], [0, 0]])\n",
    "    result = tf.where(tf.equal(padded_mask, 1), padded_degenerate, orig_im)\n",
    "\n",
    "    return blend(result, orig_im, factor)\n",
    "\n",
    "\n",
    "def shear_x(image):\n",
    "    level = tf.random.uniform([], minval=-0.3, maxval=0.3)\n",
    "    image = tfa.image.transform_ops.transform(\n",
    "        wrap(image), [1., level, 0., 0., 1., 0., 0., 0.])\n",
    "    return unwrap(image)\n",
    "\n",
    "\n",
    "def shear_y(image):\n",
    "    level = tf.random.uniform([], minval=-0.3, maxval=0.3)\n",
    "    image = tfa.image.transform_ops.transform(\n",
    "        wrap(image), [1., 0., 0., level, 1., 0., 0., 0.])\n",
    "    return unwrap(image)\n",
    "\n",
    "\n",
    "def solarize(image):\n",
    "    threshold = tf.random.uniform([], minval=0, maxval=255, dtype=tf.int32)\n",
    "    threshold = tf.saturate_cast(threshold, image.dtype)\n",
    "    return tf.where(image < threshold, image, 255 - image)\n",
    "\n",
    "\n",
    "def translate_x(image):\n",
    "    pixels = tf.cast(\n",
    "        tf.random.uniform([], minval=-0.3, maxval=0.3) * IMG_WIDTH, tf.int32)\n",
    "    image = tf.roll(image, [0, pixels], tf.constant([0, 1]))\n",
    "    return image\n",
    "\n",
    "\n",
    "def translate_y(image):\n",
    "    pixels = tf.cast(\n",
    "        tf.random.uniform([], minval=-0.3, maxval=0.3) * IMG_HEIGHT, tf.int32)\n",
    "    image = tf.roll(image, [pixels, 0], tf.constant([0, 1]))\n",
    "    return image\n",
    "\n",
    "\n",
    "###########\n",
    "# Utility #\n",
    "###########\n",
    "def blend(image1, image2, factor):\n",
    "    image1 = tf.cast(image1, tf.float32)\n",
    "    image2 = tf.cast(image2, tf.float32)\n",
    "    return tf.saturate_cast(image1 + factor * (image2 - image1), tf.uint8)\n",
    "\n",
    "\n",
    "def wrap(image):\n",
    "    shape = tf.shape(image)\n",
    "    extended_channel = tf.ones([shape[0], shape[1], 1], image.dtype)\n",
    "    extended = tf.concat([image, extended_channel], 2)\n",
    "    return extended\n",
    "\n",
    "\n",
    "def unwrap(image):\n",
    "    image_shape = tf.shape(image)\n",
    "    flattened_image = tf.reshape(image, [-1, image_shape[2]])\n",
    "\n",
    "    alpha_channel = tf.expand_dims(flattened_image[:, image_shape[2] - 1], 1)\n",
    "\n",
    "    replace = tf.constant([128, 128, 128, 1], image.dtype)\n",
    "\n",
    "    flattened_image = tf.where(\n",
    "        tf.equal(alpha_channel, 0),\n",
    "        tf.ones_like(flattened_image, dtype=image.dtype) * replace,\n",
    "        flattened_image)\n",
    "\n",
    "    image = tf.reshape(flattened_image, image_shape)\n",
    "    image = tf.slice(image, [0, 0, 0],\n",
    "                     [image_shape[0], image_shape[1], image_shape[2] - 1])\n",
    "    return image\n",
    "\n",
    "\n",
    "normalize_img = lambda x: tf.clip_by_value(x / 255, 0, 1)\n",
    "\n",
    "\n",
    "####################################\n",
    "# Augmentation selection functions #\n",
    "####################################\n",
    "def any_equals(x, y, v):\n",
    "    return x == v or y == v\n",
    "\n",
    "\n",
    "def augment_image_strong(image):\n",
    "    num_funcs = tf.constant(14, dtype=tf.int32)\n",
    "    func_num1 = tf.random.uniform([],\n",
    "                                  minval=0,\n",
    "                                  maxval=num_funcs,\n",
    "                                  dtype=tf.int32)\n",
    "    func_num2 = tf.random.uniform([],\n",
    "                                  minval=0,\n",
    "                                  maxval=num_funcs,\n",
    "                                  dtype=tf.int32)\n",
    "\n",
    "    while func_num1 == func_num2:\n",
    "        func_num2 = tf.random.uniform([],\n",
    "                                      minval=0,\n",
    "                                      maxval=num_funcs,\n",
    "                                      dtype=tf.int32)\n",
    "\n",
    "    if any_equals(func_num1, func_num2, 0):\n",
    "        image = autocontrast(image)\n",
    "    if any_equals(func_num1, func_num2, 1):\n",
    "        image = brightness(image)\n",
    "    if any_equals(func_num1, func_num2, 2):\n",
    "        image = color(image)\n",
    "    if any_equals(func_num1, func_num2, 3):\n",
    "        image = contrast(image)\n",
    "    if any_equals(func_num1, func_num2, 4):\n",
    "        image = equalize(image)\n",
    "    if any_equals(func_num1, func_num2, 5):\n",
    "        image = identity(image)\n",
    "    if any_equals(func_num1, func_num2, 6):\n",
    "        image = posterize(image)\n",
    "    if any_equals(func_num1, func_num2, 7):\n",
    "        image = rotate(image)\n",
    "    if any_equals(func_num1, func_num2, 8):\n",
    "        image = sharpness(image)\n",
    "    if any_equals(func_num1, func_num2, 9):\n",
    "        image = shear_x(image)\n",
    "    if any_equals(func_num1, func_num2, 10):\n",
    "        image = shear_y(image)\n",
    "    if any_equals(func_num1, func_num2, 11):\n",
    "        image = solarize(image)\n",
    "    if any_equals(func_num1, func_num2, 12):\n",
    "        image = translate_x(image)\n",
    "    if any_equals(func_num1, func_num2, 13):\n",
    "        image = translate_y(image)\n",
    "    return image\n",
    "\n",
    "\n",
    "def augment_image_weak(image):\n",
    "    image = shift(image)\n",
    "    image = mirror(image)\n",
    "    return image\n",
    "\n",
    "\n",
    "#####################\n",
    "# Dataset splitting #\n",
    "#####################\n",
    "def x_u_split_idx(labels, num_labels_per_class):\n",
    "    labeled = []\n",
    "    unlabeled = []\n",
    "\n",
    "    for i in range(CLASSES):\n",
    "        idx = np.where(labels == i)[0]\n",
    "        np.random.shuffle(idx)\n",
    "        labeled.extend(idx[:num_labels_per_class])\n",
    "        unlabeled.extend(idx)\n",
    "\n",
    "    np.random.shuffle(labeled)\n",
    "    np.random.shuffle(unlabeled)\n",
    "    return labeled, unlabeled\n",
    "\n",
    "\n",
    "def test_get_idx(labels, num_per_class, seed):\n",
    "    test_idx = []\n",
    "\n",
    "    for i in range(CLASSES):\n",
    "        idx = np.where(labels == i)[0]\n",
    "        if seed:\n",
    "            np.random.seed(seed)\n",
    "        np.random.shuffle(idx)\n",
    "        test_idx.extend(idx[:num_per_class])\n",
    "\n",
    "    return test_idx\n",
    "\n",
    "\n",
    "def train_val_split(inputs, outputs, num_validation):\n",
    "    num_classes = 10\n",
    "    num_validation_per_class = num_validation // num_classes\n",
    "    train_idx = []\n",
    "    validation_idx = []\n",
    "\n",
    "    for i in range(num_classes):\n",
    "        idx = np.where(outputs == i)[0]\n",
    "        np.random.shuffle(idx)\n",
    "        train_idx.extend(idx[num_validation_per_class:])\n",
    "        validation_idx.extend(idx[:num_validation_per_class])\n",
    "\n",
    "    x_train = inputs[train_idx]\n",
    "    y_train = outputs[train_idx]\n",
    "\n",
    "    x_validation = inputs[validation_idx]\n",
    "    y_validation = outputs[validation_idx]\n",
    "\n",
    "    return (x_train, y_train), (x_validation, y_validation)\n",
    "\n",
    "\n",
    "#################################\n",
    "# Generate Train & Val Datasets #\n",
    "#################################\n",
    "def dataset_trainval(num_labels_per_class, batch_size, mu, validation_samples):\n",
    "    (x_train, y_train), _ = tf.keras.datasets.cifar10.load_data()\n",
    "    (x_train, y_train), (x_validation, y_validation) = train_val_split(\n",
    "        x_train, y_train, validation_samples)\n",
    "    (labeled_idx, unlabeled_idx) = x_u_split_idx(y_train, num_labels_per_class)\n",
    "\n",
    "    total_batch_size = batch_size * (mu + 1)\n",
    "    n_labeled_batches = math.ceil(num_labels_per_class * CLASSES / batch_size)\n",
    "    n_unlabeled_batches = math.ceil(x_train.shape[0] / (batch_size * mu))\n",
    "    n_val_batches = math.ceil(x_validation.shape[0] / total_batch_size)\n",
    "\n",
    "    # Labeled\n",
    "    y_labeled = tf.one_hot(y_train[labeled_idx].flatten(),\n",
    "                           CLASSES,\n",
    "                           dtype=tf.uint8)\n",
    "    y_labeled = tf.data.Dataset.from_tensor_slices(y_labeled)\n",
    "    x_labeled = x_train[labeled_idx]\n",
    "    x_labeled = tf.data.Dataset.from_tensor_slices(x_labeled)\n",
    "    x_labeled = x_labeled.map(augment_image_weak, num_parallel_calls=AUTO)\n",
    "    x_labeled = x_labeled.map(normalize_img, num_parallel_calls=AUTO)\n",
    "    labeled = tf.data.Dataset.zip(\n",
    "        (x_labeled,\n",
    "         y_labeled)).shuffle(batch_size * 8).batch(batch_size).repeat()\n",
    "\n",
    "    # Unlabeled\n",
    "    w_unlabeled = x_train[unlabeled_idx]\n",
    "    w_unlabeled = tf.data.Dataset.from_tensor_slices(w_unlabeled)\n",
    "    w_unlabeled = w_unlabeled.map(augment_image_weak, num_parallel_calls=AUTO)\n",
    "    w_unlabeled = w_unlabeled.map(normalize_img, num_parallel_calls=AUTO)\n",
    "    s_unlabeled = x_train[unlabeled_idx]\n",
    "    s_unlabeled = tf.data.Dataset.from_tensor_slices(s_unlabeled)\n",
    "    s_unlabeled = s_unlabeled.map(augment_image_strong,\n",
    "                                  num_parallel_calls=AUTO)\n",
    "    s_unlabeled = s_unlabeled.map(cutout, num_parallel_calls=AUTO)\n",
    "    s_unlabeled = s_unlabeled.map(normalize_img, num_parallel_calls=AUTO)\n",
    "    unlabeled = tf.data.Dataset.zip((w_unlabeled, s_unlabeled)).shuffle(\n",
    "        batch_size * mu * 8).batch(batch_size * mu).repeat()\n",
    "\n",
    "    # Validation\n",
    "    y_validation = tf.one_hot(y_validation.flatten(), CLASSES, dtype=tf.uint8)\n",
    "    y_validation = tf.data.Dataset.from_tensor_slices(y_validation)\n",
    "    x_validation = tf.data.Dataset.from_tensor_slices(x_validation)\n",
    "    x_validation = x_validation.map(augment_image_weak,\n",
    "                                    num_parallel_calls=AUTO)\n",
    "    x_validation = x_validation.map(normalize_img, num_parallel_calls=AUTO)\n",
    "    validation = tf.data.Dataset.zip((x_validation, y_validation)).shuffle(\n",
    "        total_batch_size * 8).batch(total_batch_size).repeat()\n",
    "\n",
    "    return (labeled, n_labeled_batches), (unlabeled,\n",
    "                                          n_unlabeled_batches), (validation,\n",
    "                                                                 n_val_batches)\n",
    "\n",
    "\n",
    "################################\n",
    "# Generate Reular Test Dataset #\n",
    "################################\n",
    "def dataset_test(batch_size):\n",
    "    _, (x_test, y_test) = tf.keras.datasets.cifar10.load_data()\n",
    "\n",
    "    n_test_batches = math.ceil(x_test.shape[0] / batch_size)\n",
    "\n",
    "    # Test\n",
    "    y_test_ds = tf.one_hot(y_test.flatten(), CLASSES, dtype=tf.uint8)\n",
    "    y_test_ds = tf.data.Dataset.from_tensor_slices(y_test_ds)\n",
    "    x_test_ds = tf.data.Dataset.from_tensor_slices(x_test)\n",
    "    x_test_ds = x_test_ds.map(augment_image_weak, num_parallel_calls=AUTO)\n",
    "    x_test_ds = x_test_ds.map(normalize_img, num_parallel_calls=AUTO)\n",
    "    test = tf.data.Dataset.zip(\n",
    "        (x_test_ds,\n",
    "         y_test_ds)).shuffle(batch_size * 8).batch(batch_size).repeat()\n",
    "\n",
    "    return (test, n_test_batches)\n",
    "\n",
    "\n",
    "###########################################\n",
    "# Generate Reular Test Dataset with no WA #\n",
    "###########################################\n",
    "def dataset_test_no_wa(batch_size):\n",
    "    _, (x_test, y_test) = tf.keras.datasets.cifar10.load_data()\n",
    "\n",
    "    n_test_batches = math.ceil(x_test.shape[0] / batch_size)\n",
    "\n",
    "    # Test\n",
    "    y_test_ds = tf.one_hot(y_test.flatten(), CLASSES, dtype=tf.uint8)\n",
    "    y_test_ds = tf.data.Dataset.from_tensor_slices(y_test_ds)\n",
    "    x_test_ds = tf.data.Dataset.from_tensor_slices(x_test)\n",
    "    x_test_ds = x_test_ds.map(normalize_img, num_parallel_calls=AUTO)\n",
    "    test = tf.data.Dataset.zip(\n",
    "        (x_test_ds,\n",
    "         y_test_ds)).shuffle(batch_size * 8).batch(batch_size).repeat()\n",
    "\n",
    "    return (test, n_test_batches)\n",
    "\n",
    "\n",
    "##################################\n",
    "# Generate Grad-CAM Test Dataset #\n",
    "##################################\n",
    "def dataset_test_gradcam(batch_size):\n",
    "    _, (x_test, y_test) = tf.keras.datasets.cifar10.load_data()\n",
    "\n",
    "    n_test_grad_batches = math.ceil(x_test.shape[0] / batch_size)\n",
    "\n",
    "    # Test Grad-CAM\n",
    "    y_test_grad = tf.one_hot(y_test.flatten(), CLASSES, dtype=tf.uint8)\n",
    "    y_test_grad = tf.data.Dataset.from_tensor_slices(y_test_grad)\n",
    "    x_test_grad_w = tf.data.Dataset.from_tensor_slices(x_test)\n",
    "    x_test_grad_w = x_test_grad_w.map(augment_image_weak,\n",
    "                                      num_parallel_calls=AUTO)\n",
    "    x_test_grad_w = x_test_grad_w.map(normalize_img, num_parallel_calls=AUTO)\n",
    "    x_test_grad_s = tf.data.Dataset.from_tensor_slices(x_test)\n",
    "    x_test_grad_s = x_test_grad_s.map(augment_image_strong,\n",
    "                                      num_parallel_calls=AUTO)\n",
    "    x_test_grad_s = x_test_grad_s.map(cutout, num_parallel_calls=AUTO)\n",
    "    x_test_grad_s = x_test_grad_s.map(normalize_img, num_parallel_calls=AUTO)\n",
    "    test_grad = tf.data.Dataset.zip(\n",
    "        (x_test_grad_w, x_test_grad_s,\n",
    "         y_test_grad)).shuffle(batch_size * 8).batch(batch_size).repeat()\n",
    "\n",
    "    return (test_grad, n_test_grad_batches)\n",
    "\n",
    "\n",
    "#######################################\n",
    "# Generate Majority Vote Test Dataset #\n",
    "#######################################\n",
    "def dataset_test_vote(batch_size, repeats, func):\n",
    "    _, (x_test, y_test) = tf.keras.datasets.cifar10.load_data()\n",
    "\n",
    "    n_repeats_batch_size = math.floor(batch_size / repeats) * repeats\n",
    "    n_test_repeat_batches = math.ceil(x_test.shape[0] * repeats /\n",
    "                                      n_repeats_batch_size)\n",
    "\n",
    "    # Test Voting\n",
    "    y_test_repeat = np.repeat(y_test, repeats, axis=0)\n",
    "    y_test_ds_repeat = tf.one_hot(y_test_repeat.flatten(),\n",
    "                                  CLASSES,\n",
    "                                  dtype=tf.uint8)\n",
    "    y_test_ds_repeat = tf.data.Dataset.from_tensor_slices(y_test_ds_repeat)\n",
    "    x_test_repeat = np.repeat(x_test, repeats, axis=0)\n",
    "    x_test_ds_repeat = tf.data.Dataset.from_tensor_slices(x_test_repeat)\n",
    "    x_test_ds_repeat = x_test_ds_repeat.map(func, num_parallel_calls=AUTO)\n",
    "    x_test_ds_repeat = x_test_ds_repeat.map(normalize_img,\n",
    "                                            num_parallel_calls=AUTO)\n",
    "    test_repeat = tf.data.Dataset.zip(\n",
    "        (x_test_ds_repeat,\n",
    "         y_test_ds_repeat)).batch(n_repeats_batch_size).shuffle(5).repeat()\n",
    "\n",
    "    return (test_repeat, n_test_repeat_batches)\n",
    "\n",
    "\n",
    "################################################\n",
    "# Generate Grad-CAM Test Dataset fixed samples #\n",
    "################################################\n",
    "def dataset_test_gradcam_fixed(\n",
    "    batch_size,\n",
    "    n_samples_per_class,\n",
    "    func1,\n",
    "    func2,\n",
    "    func3,\n",
    "    seed=None,\n",
    "    shuffle_classes=False,\n",
    "    shuffle_class_seed=None,\n",
    "):\n",
    "    _, (x_test, y_test) = tf.keras.datasets.cifar10.load_data()\n",
    "\n",
    "    idx = test_get_idx(y_test, n_samples_per_class, seed)\n",
    "    if shuffle_classes:\n",
    "        if shuffle_class_seed:\n",
    "            np.random.seed(shuffle_class_seed)\n",
    "        np.random.shuffle(idx)\n",
    "    x_test = x_test[idx]\n",
    "    y_test = y_test[idx]\n",
    "\n",
    "    n_test_grad_batches = math.ceil(x_test.shape[0] / batch_size)\n",
    "\n",
    "    # Test Grad-CAM\n",
    "    y_test_grad = tf.one_hot(y_test.flatten(), CLASSES, dtype=tf.uint8)\n",
    "    y_test_grad = tf.data.Dataset.from_tensor_slices(y_test_grad)\n",
    "    x_test_grad_c = tf.data.Dataset.from_tensor_slices(x_test)\n",
    "    x_test_grad_c = x_test_grad_c.map(func1, num_parallel_calls=AUTO)\n",
    "    x_test_grad_c = x_test_grad_c.map(normalize_img, num_parallel_calls=AUTO)\n",
    "    x_test_grad_w = tf.data.Dataset.from_tensor_slices(x_test)\n",
    "    x_test_grad_w = x_test_grad_w.map(func2, num_parallel_calls=AUTO)\n",
    "    x_test_grad_w = x_test_grad_w.map(normalize_img, num_parallel_calls=AUTO)\n",
    "    x_test_grad_s = tf.data.Dataset.from_tensor_slices(x_test)\n",
    "    x_test_grad_s = x_test_grad_s.map(func3, num_parallel_calls=AUTO)\n",
    "    x_test_grad_s = x_test_grad_s.map(normalize_img, num_parallel_calls=AUTO)\n",
    "    test_grad = tf.data.Dataset.zip(\n",
    "        (x_test_grad_c, x_test_grad_w, x_test_grad_s,\n",
    "         y_test_grad)).batch(batch_size).repeat()\n",
    "\n",
    "    return (test_grad, n_test_grad_batches)\n",
    "\n",
    "\n",
    "###########################################################\n",
    "# Generate Reular Test Dataset with only one augmentation #\n",
    "###########################################################\n",
    "def dataset_test_single_augmentation(batch_size, augmentation):\n",
    "    _, (x_test, y_test) = tf.keras.datasets.cifar10.load_data()\n",
    "\n",
    "    n_test_batches = math.ceil(x_test.shape[0] / batch_size)\n",
    "\n",
    "    # Test\n",
    "    y_test_ds = tf.one_hot(y_test.flatten(), CLASSES, dtype=tf.uint8)\n",
    "    y_test_ds = tf.data.Dataset.from_tensor_slices(y_test_ds)\n",
    "    x_test_ds = tf.data.Dataset.from_tensor_slices(x_test)\n",
    "    x_test_ds = x_test_ds.map(augmentation, num_parallel_calls=AUTO)\n",
    "    x_test_ds = x_test_ds.map(normalize_img, num_parallel_calls=AUTO)\n",
    "    test = tf.data.Dataset.zip(\n",
    "        (x_test_ds,\n",
    "         y_test_ds)).shuffle(batch_size * 8).batch(batch_size).repeat()\n",
    "\n",
    "    return (test, n_test_batches)"
   ]
  },
  {
   "cell_type": "markdown",
   "metadata": {
    "id": "LlLJ1KxztOWh"
   },
   "source": [
    "# Wide-ResNet Implementation"
   ]
  },
  {
   "cell_type": "code",
   "execution_count": 654,
   "metadata": {
    "id": "AONji9sV4Idm"
   },
   "outputs": [],
   "source": [
    "def WideResNet(depth=28, widen_factor=2):\n",
    "    filters = [16, 16 * widen_factor, 32 * widen_factor, 64 * widen_factor]\n",
    "    strides = [1, 2, 2]\n",
    "    assert ((depth - 4) % 6 == 0)\n",
    "    n = (depth - 4) // 6\n",
    "\n",
    "    inputs = Input(shape=IMG_SHAPE)\n",
    "    x = Conv2D(filters[0],\n",
    "               kernel_size=3,\n",
    "               strides=1,\n",
    "               padding='same',\n",
    "               use_bias=False)(inputs)\n",
    "\n",
    "    first_x = x\n",
    "    orig_x = x\n",
    "\n",
    "    for block_num in range(1, 4):\n",
    "        activate_before_residual = True if block_num == 1 else False\n",
    "        x = residual_block(x,\n",
    "                           filters[block_num - 1],\n",
    "                           filters[block_num],\n",
    "                           strides[block_num - 1],\n",
    "                           activate_before_residual=activate_before_residual)\n",
    "\n",
    "        for i in range(1, n):\n",
    "            x = residual_block(x,\n",
    "                               filters[block_num],\n",
    "                               filters[block_num],\n",
    "                               1,\n",
    "                               activate_before_residual=False)\n",
    "\n",
    "        x, orig_x = res_add(filters[block_num - 1], filters[block_num],\n",
    "                            strides[block_num - 1], x, orig_x)\n",
    "\n",
    "    x, _ = res_add(filters[0], filters[3], np.prod(strides), x, first_x)\n",
    "\n",
    "    x = BatchNormalization(momentum=0.999, scale=False, fused=True)(x)\n",
    "    x = ReLU()(x)\n",
    "\n",
    "    x = GlobalAveragePooling2D()(x)\n",
    "    x = Dense(CLASSES)(x)\n",
    "    x = Softmax()(x)\n",
    "\n",
    "    model = Model(inputs=inputs, outputs=x)\n",
    "    return model\n",
    "\n",
    "\n",
    "def residual_block(x,\n",
    "                   in_filter,\n",
    "                   out_filter,\n",
    "                   stride,\n",
    "                   activate_before_residual=False):\n",
    "    if activate_before_residual:\n",
    "        x = BatchNormalization(momentum=0.999, scale=False, fused=True)(x)\n",
    "        x = ReLU()(x)\n",
    "        orig_x = x\n",
    "    else:\n",
    "        orig_x = x\n",
    "\n",
    "    block_x = x\n",
    "    if not activate_before_residual:\n",
    "        block_x = BatchNormalization(momentum=0.999, scale=False,\n",
    "                                     fused=True)(block_x)\n",
    "        block_x = ReLU()(block_x)\n",
    "\n",
    "    block_x = Conv2D(out_filter,\n",
    "                     kernel_size=3,\n",
    "                     strides=stride,\n",
    "                     padding='same',\n",
    "                     use_bias=False)(block_x)\n",
    "\n",
    "    block_x = BatchNormalization(momentum=0.999, scale=False,\n",
    "                                 fused=True)(block_x)\n",
    "    block_x = ReLU()(block_x)\n",
    "    block_x = Conv2D(out_filter,\n",
    "                     kernel_size=3,\n",
    "                     strides=1,\n",
    "                     padding='same',\n",
    "                     use_bias=False)(block_x)\n",
    "\n",
    "    if in_filter != out_filter:\n",
    "        kernel = stride_arr(stride, stride)\n",
    "        strides = stride_arr(stride, stride)\n",
    "        orig_x = tf.nn.avg_pool(orig_x,\n",
    "                                ksize=kernel,\n",
    "                                strides=strides,\n",
    "                                padding='VALID',\n",
    "                                data_format='NHWC')\n",
    "        orig_x = tf.pad(orig_x, [[0, 0], [0, 0], [0, 0],\n",
    "                                 [(out_filter - in_filter) // 2,\n",
    "                                  (out_filter - in_filter) // 2]])\n",
    "\n",
    "    x = orig_x + block_x\n",
    "    return x\n",
    "\n",
    "\n",
    "def res_add(in_filter, out_filter, stride, x, orig_x):\n",
    "    if in_filter != out_filter:\n",
    "        kernel = stride_arr(stride, stride)\n",
    "        strides = stride_arr(stride, stride)\n",
    "        orig_x = tf.nn.avg_pool(orig_x,\n",
    "                                ksize=kernel,\n",
    "                                strides=strides,\n",
    "                                padding='VALID',\n",
    "                                data_format='NHWC')\n",
    "        orig_x = tf.pad(orig_x, [[0, 0], [0, 0], [0, 0],\n",
    "                                 [(out_filter - in_filter) // 2,\n",
    "                                  (out_filter - in_filter) // 2]])\n",
    "\n",
    "    x = x + orig_x\n",
    "    orig_x = x\n",
    "    return x, orig_x\n",
    "\n",
    "\n",
    "def stride_arr(stride_h, stride_w):\n",
    "    return [1, stride_h, stride_w, 1]"
   ]
  },
  {
   "cell_type": "markdown",
   "metadata": {
    "id": "fYhGszQVVo1D"
   },
   "source": [
    "# Training/Loading Functions"
   ]
  },
  {
   "cell_type": "code",
   "execution_count": 655,
   "metadata": {
    "id": "L4LWTa_KAXLm"
   },
   "outputs": [],
   "source": [
    "def save_download_model(iteration):\n",
    "    model_name = 'model_' + str(iteration)\n",
    "    model_name_compressed = 'model_' + str(iteration) + '.zip'\n",
    "    model.save(model_name)\n",
    "    !zip -r $model_name_compressed $model_name\n",
    "\n",
    "\n",
    "def save_download_stats(train_losses_labeled,\n",
    "                        train_losses_unlabeled,\n",
    "                        train_losses,\n",
    "                        val_losses,\n",
    "                        val_accuracies,\n",
    "                        name='final'):\n",
    "    file_name = 'stats_' + name + '.npz'\n",
    "    np.savez_compressed(file_name,\n",
    "                        tll=train_losses_labeled,\n",
    "                        tlu=train_losses_unlabeled,\n",
    "                        tl=train_losses,\n",
    "                        vl=val_losses,\n",
    "                        va=val_accuracies)\n",
    "\n",
    "\n",
    "@tf.function\n",
    "def train_step(x_labeled, y_labeled, w_unlabeled, s_unlabeled):\n",
    "    with tf.GradientTape() as tape:\n",
    "        # Logits\n",
    "        logits_labeled = model(x_labeled, training=True)\n",
    "        logits_w_unlabeled = model(w_unlabeled, training=True)\n",
    "        logits_s_unlabeled = model(s_unlabeled, training=True)\n",
    "\n",
    "        # Labeled loss\n",
    "        loss_labeled = tf.keras.losses.categorical_crossentropy(\n",
    "            y_labeled, logits_labeled)\n",
    "        loss_labeled = tf.reduce_mean(loss_labeled)\n",
    "\n",
    "        # Unlabeled loss\n",
    "        pseudo_labels = tf.stop_gradient(logits_w_unlabeled)\n",
    "        loss_unlabeled = tf.keras.losses.categorical_crossentropy(\n",
    "            tf.one_hot(tf.argmax(pseudo_labels, axis=-1),\n",
    "                       CLASSES,\n",
    "                       dtype=tf.int8), logits_s_unlabeled)\n",
    "        pseudo_mask = (tf.reduce_max(pseudo_labels, axis=1) >= TAU)\n",
    "        pseudo_mask = tf.cast(pseudo_mask, tf.float32)\n",
    "        loss_unlabeled = tf.reduce_mean(loss_unlabeled * pseudo_mask)\n",
    "\n",
    "        # Total loss\n",
    "        total_loss = loss_labeled + LAMBDA_U * loss_unlabeled\n",
    "\n",
    "    grads = tape.gradient(total_loss, model.trainable_weights)\n",
    "    optimizer.apply_gradients(zip(grads, model.trainable_weights))\n",
    "    return loss_labeled, loss_unlabeled, total_loss\n",
    "\n",
    "\n",
    "@tf.function\n",
    "def validation_step(x_validation, y_validation):\n",
    "    logits = model(x_validation, training=False)\n",
    "    loss = tf.reduce_mean(\n",
    "        tf.keras.losses.categorical_crossentropy(y_validation, logits))\n",
    "    predictions = tf.argmax(logits, axis=-1)\n",
    "    targets = tf.argmax(y_validation, axis=-1)\n",
    "    accuracy = tf.reduce_mean(\n",
    "        tf.cast(tf.equal(predictions, targets), tf.float32))\n",
    "    return loss, accuracy\n",
    "\n",
    "\n",
    "@tf.function\n",
    "def test_step(x_test, y_test):\n",
    "    logits = model(x_test, training=False)\n",
    "    predictions = tf.argmax(logits, axis=-1)\n",
    "    targets = tf.argmax(y_test, axis=-1)\n",
    "    accuracy = tf.reduce_mean(\n",
    "        tf.cast(tf.equal(predictions, targets), tf.float32))\n",
    "    return accuracy\n",
    "\n",
    "\n",
    "def lr_schedule(k):\n",
    "    return LR * tf.cos((7 * math.pi * k) / (16 * ITERATIONS))\n",
    "\n",
    "\n",
    "def run_train(labeled,\n",
    "              unlabeled,\n",
    "              validation,\n",
    "              model_name='final'):\n",
    "    # Progress bar\n",
    "    pbar = tqdm(range(ITERATIONS))\n",
    "\n",
    "    # Statistics\n",
    "    train_losses_labeled = np.zeros((ITERATIONS))\n",
    "    train_losses_unlabeled = np.zeros((ITERATIONS))\n",
    "    train_losses = np.zeros((ITERATIONS))\n",
    "    val_losses = np.zeros((math.ceil(ITERATIONS / VAL_PRINT_STEP)))\n",
    "    val_accuracies = np.zeros((math.ceil(ITERATIONS / VAL_PRINT_STEP)))\n",
    "\n",
    "    # Data\n",
    "    (labeled, n_labeled_batches) = labeled\n",
    "    (unlabeled, n_unlabeled_batches) = unlabeled\n",
    "    (validation, n_val_batches) = validation\n",
    "\n",
    "    # Iterations\n",
    "    for (iteration, x_batch, u_batch) in zip(pbar, labeled, unlabeled):\n",
    "        (x_labeled, y_labeled) = x_batch\n",
    "        (w_unlabeled, s_unlabeled) = u_batch\n",
    "        loss_labeled, loss_unlabeled, total_loss = train_step(\n",
    "            x_labeled, y_labeled, w_unlabeled, s_unlabeled)\n",
    "\n",
    "        train_losses_labeled[iteration] = loss_labeled\n",
    "        train_losses_unlabeled[iteration] = loss_unlabeled\n",
    "        train_losses[iteration] = total_loss\n",
    "\n",
    "        optimizer.learning_rate.assign(lr_schedule(iteration))\n",
    "        pbar.set_description('Train Loss: %.6f' % total_loss)\n",
    "\n",
    "        # Validation\n",
    "        if iteration % VAL_PRINT_STEP == 0:\n",
    "            val_loss, val_accuracy = [], []\n",
    "            for (i, (x_val, y_val)) in zip(range(n_val_batches), validation):\n",
    "                val_batch_loss, val_batch_accuracy = validation_step(\n",
    "                    x_val, y_val)\n",
    "                val_loss.append(val_batch_loss)\n",
    "                val_accuracy.append(val_batch_accuracy)\n",
    "            val_loss_mean, val_accuracy_mean = np.mean(val_loss), np.mean(\n",
    "                val_accuracy)\n",
    "            val_losses[iteration // VAL_PRINT_STEP] = val_loss_mean\n",
    "            val_accuracies[iteration // VAL_PRINT_STEP] = val_accuracy_mean\n",
    "\n",
    "    save_download_model(model_name)\n",
    "    return train_losses_labeled, train_losses_unlabeled, train_losses, val_losses, val_accuracies\n",
    "\n",
    "\n",
    "def run_test(test, n_test_batches):\n",
    "    test_accuracy = []\n",
    "    for (i, (x_test, y_test)) in zip(range(n_test_batches), test):\n",
    "        logits = model(x_test, training=False)\n",
    "        predictions = tf.argmax(logits, axis=-1)\n",
    "        targets = tf.argmax(y_test, axis=-1)\n",
    "        test_batch_accuracy = tf.reduce_mean(\n",
    "            tf.cast(tf.equal(predictions, targets), tf.float32))\n",
    "        test_accuracy.append(test_batch_accuracy)\n",
    "    return np.mean(test_accuracy)\n",
    "\n",
    "\n",
    "def run_test_vote(test, n_test_batches):\n",
    "    test_accuracy = []\n",
    "    for (i, (x_test, y_test)) in zip(range(n_test_batches), test):\n",
    "        logits = model(x_test, training=False)\n",
    "        predictions = tf.argmax(logits, axis=-1)\n",
    "        targets = tf.argmax(y_test, axis=-1)\n",
    "        imgs_in_batch = tf.math.floordiv(\n",
    "            tf.gather_nd(tf.shape(predictions), [0]), repeats)\n",
    "        image_split = tf.fill((imgs_in_batch, ), repeats)\n",
    "        split_preds = tf.split(predictions, image_split)\n",
    "        split_labels = tf.split(targets, image_split)\n",
    "        for (img_preds, img_labels) in zip(split_preds, split_labels):\n",
    "            y, _, count = tf.unique_with_counts(img_preds)\n",
    "            accuracy = tf.reduce_mean(\n",
    "                tf.cast(\n",
    "                    tf.equal(tf.fill((1, ), y[tf.argmax(count)]), img_labels),\n",
    "                    tf.float32))\n",
    "            test_accuracy.append(accuracy)\n",
    "    return tf.reduce_mean(test_accuracy)\n",
    "\n",
    "\n",
    "def load_model(model_name):\n",
    "    model_name = 'model_' + model_name\n",
    "    if not os.path.exists(model_name):\n",
    "        with ZipFile(model_name + '.zip', 'r') as zipfile:\n",
    "            zipfile.extractall()\n",
    "\n",
    "    return tf.keras.models.load_model(model_name)"
   ]
  },
  {
   "cell_type": "markdown",
   "metadata": {
    "id": "Jrvw6VPNLmZW"
   },
   "source": [
    "## Training Run"
   ]
  },
  {
   "cell_type": "code",
   "execution_count": 15,
   "metadata": {
    "colab": {
     "base_uri": "https://localhost:8080/",
     "height": 1000
    },
    "id": "PHZBVxAqLl3B",
    "outputId": "7d4fb32c-33bb-463a-da76-709a806f9809",
    "scrolled": true
   },
   "outputs": [
    {
     "data": {
      "application/vnd.jupyter.widget-view+json": {
       "model_id": "d27bacbd3e3e47f3baa9d23e501c4039",
       "version_major": 2,
       "version_minor": 0
      },
      "text/plain": [
       "HBox(children=(IntProgress(value=0, max=40000), HTML(value='')))"
      ]
     },
     "metadata": {},
     "output_type": "display_data"
    },
    {
     "name": "stdout",
     "output_type": "stream",
     "text": [
      "WARNING:tensorflow:From /home/erikb/.pyenv/versions/sci/lib/python3.8/site-packages/tensorflow/python/training/tracking/tracking.py:111: Model.state_updates (from tensorflow.python.keras.engine.training) is deprecated and will be removed in a future version.\n",
      "Instructions for updating:\n",
      "This property should not be used in TensorFlow 2.0, as updates are applied automatically.\n",
      "WARNING:tensorflow:From /home/erikb/.pyenv/versions/sci/lib/python3.8/site-packages/tensorflow/python/training/tracking/tracking.py:111: Layer.updates (from tensorflow.python.keras.engine.base_layer) is deprecated and will be removed in a future version.\n",
      "Instructions for updating:\n",
      "This property should not be used in TensorFlow 2.0, as updates are applied automatically.\n",
      "INFO:tensorflow:Assets written to: model_mu2/assets\n",
      "  adding: model_mu2/ (stored 0%)\n",
      "  adding: model_mu2/assets/ (stored 0%)\n",
      "  adding: model_mu2/variables/ (stored 0%)\n",
      "  adding: model_mu2/variables/variables.index (deflated 77%)\n",
      "  adding: model_mu2/variables/variables.data-00000-of-00001 (deflated 8%)\n",
      "  adding: model_mu2/saved_model.pb (deflated 93%)\n"
     ]
    }
   ],
   "source": [
    "# Hyper-params\n",
    "LAMBDA_U = 1\n",
    "TAU = 0.95\n",
    "MU = 2\n",
    "LR = 0.03\n",
    "ITERATIONS = 40000\n",
    "BATCH_SIZE = 64\n",
    "LABELS_PER_CLASS = 25\n",
    "WD = 0.00005\n",
    "VAL_PRINT_STEP = 100\n",
    "model_name = 'mu2'\n",
    "\n",
    "# Data\n",
    "NUM_VAL_SAMPLES = 1000\n",
    "num_training_samples = TOTAL_NUM_TRAIN_SAMPLES - NUM_VAL_SAMPLES\n",
    "labeled, unlabeled, validation = dataset_trainval(LABELS_PER_CLASS, BATCH_SIZE,\n",
    "                                                  MU, NUM_VAL_SAMPLES)\n",
    "\n",
    "# Model and training\n",
    "sgdw = tfa.optimizers.SGDW(learning_rate=LR,\n",
    "                           momentum=0.9,\n",
    "                           nesterov=True,\n",
    "                           weight_decay=WD)\n",
    "optimizer = tfa.optimizers.MovingAverage(sgdw, average_decay=0.999)\n",
    "model = WideResNet()\n",
    "\n",
    "# Train\n",
    "train_losses_labeled, train_losses_unlabeled, train_losses, val_losses, val_accuracies = run_train(\n",
    "    labeled, unlabeled, validation, model_name=model_name)\n",
    "\n",
    "# Save Stats\n",
    "save_download_stats(train_losses_labeled,\n",
    "                    train_losses_unlabeled,\n",
    "                    train_losses,\n",
    "                    val_losses,\n",
    "                    val_accuracies,\n",
    "                    name=model_name)"
   ]
  },
  {
   "cell_type": "markdown",
   "metadata": {},
   "source": [
    "# Evaluation"
   ]
  },
  {
   "cell_type": "code",
   "execution_count": 767,
   "metadata": {
    "scrolled": false
   },
   "outputs": [
    {
     "name": "stdout",
     "output_type": "stream",
     "text": [
      "WARNING:tensorflow:No training configuration found in save file, so the model was *not* compiled. Compile it manually.\n"
     ]
    },
    {
     "data": {
      "application/vnd.jupyter.widget-view+json": {
       "model_id": "7dfd0460a9854edebcfde4a5e5c9b4d9",
       "version_major": 2,
       "version_minor": 0
      },
      "text/plain": [
       "HBox(children=(IntProgress(value=0, max=5), HTML(value='')))"
      ]
     },
     "metadata": {},
     "output_type": "display_data"
    },
    {
     "name": "stdout",
     "output_type": "stream",
     "text": [
      "\n",
      "Acc No augment.  Mean=0.8972713589668274   std=0.00025906753477900605\n",
      "Acc TTA.    Mean=0.8970800042152405   std=0.00047917479969902365\n"
     ]
    }
   ],
   "source": [
    "def custom_augment(image):\n",
    "    image = mirror(image)\n",
    "    image = posterize(image)\n",
    "    return image\n",
    "\n",
    "model = load_model('400_2')\n",
    "\n",
    "batch_size = 512\n",
    "repeats = 7\n",
    "samples = 5\n",
    "\n",
    "acc_no_a = np.zeros(samples)\n",
    "acc_tta = np.zeros(samples)\n",
    "\n",
    "(test_no_a, n_test_no_a_batches) = dataset_test_single_augmentation(batch_size, identity)\n",
    "(test_repeat, n_test_repeat_batches) = dataset_test_vote(batch_size, repeats, custom_augment)\n",
    "\n",
    "for i in tqdm(range(samples)):\n",
    "    acc_no_a[i] = run_test(test_no_wa, n_test_no_wa_batches)\n",
    "    acc_tta[i] = run_test_vote(test_repeat, n_test_repeat_batches)\n",
    "print(\"Acc No augment.  Mean=\" + str(acc_no_a.mean()) + \"   std=\" +\n",
    "      str(acc_no_a.std()))\n",
    "print(\"Acc TTA.    Mean=\" + str(acc_tta.mean()) + \"   std=\" + str(acc_tta.std()))"
   ]
  },
  {
   "cell_type": "markdown",
   "metadata": {},
   "source": [
    "## Plots"
   ]
  },
  {
   "cell_type": "markdown",
   "metadata": {},
   "source": [
    "### Helper Functions"
   ]
  },
  {
   "cell_type": "code",
   "execution_count": 657,
   "metadata": {},
   "outputs": [],
   "source": [
    "def tickrange(magnitudes):\n",
    "    ticks = np.array([])\n",
    "    for i in range(len(magnitudes) - 1):\n",
    "        ticks = np.concatenate(\n",
    "            (ticks, np.arange(magnitudes[i], magnitudes[i + 1],\n",
    "                              magnitudes[i])))\n",
    "    return ticks"
   ]
  },
  {
   "cell_type": "markdown",
   "metadata": {},
   "source": [
    "### Variable Labels Experiment"
   ]
  },
  {
   "cell_type": "code",
   "execution_count": 658,
   "metadata": {
    "scrolled": true
   },
   "outputs": [
    {
     "data": {
      "image/png": "[encoded data removed]",
      "text/plain": [
       "<Figure size 432x288 with 1 Axes>"
      ]
     },
     "metadata": {
      "needs_background": "light"
     },
     "output_type": "display_data"
    }
   ],
   "source": [
    "low_label_err = [64.61, 53.56, 63.25, 89.99, 47.32]\n",
    "mid_label_err = [17.44, 15.59, 14.98, 15.55, 100]\n",
    "high_label_err = [11.58, 10.32, 10.77, 10.96, 13.83]\n",
    "\n",
    "low_label_err_mean = np.mean(low_label_err)\n",
    "mid_label_err_mean = np.mean(mid_label_err)\n",
    "high_label_err_mean = np.mean(high_label_err)\n",
    "low_label_err_std = np.std(low_label_err)\n",
    "mid_label_err_std = np.std(mid_label_err)\n",
    "high_label_err_std = np.std(high_label_err)\n",
    "\n",
    "label_amounts = ['4 Labels', '25 labels', '400 Labels']\n",
    "x_pos = np.arange(len(label_amounts))\n",
    "y_ticks = np.arange(80, 0, -10)\n",
    "label_err_mean = [low_label_err_mean, mid_label_err_mean, high_label_err_mean]\n",
    "std_dev = [low_label_err_std, mid_label_err_std, high_label_err_std]\n",
    "\n",
    "fig, ax = plt.subplots()\n",
    "ax.bar(x_pos,\n",
    "       label_err_mean,\n",
    "       yerr=std_dev,\n",
    "       align='center',\n",
    "       alpha=0.8,\n",
    "       ecolor='black',\n",
    "       capsize=5)\n",
    "ax.set_ylabel('Error rate', fontsize=14)\n",
    "ax.set_xlabel('Labels per class', fontsize=14)\n",
    "ax.set_xticks(x_pos)\n",
    "ax.set_yticks(y_ticks)\n",
    "ax.set_xticklabels(label_amounts)\n",
    "ax.set_axisbelow(True)\n",
    "ax.yaxis.grid(True)\n",
    "ax.spines['right'].set_visible(False)\n",
    "ax.spines['top'].set_visible(False)\n",
    "ax.spines['left'].set_visible(False)\n",
    "\n",
    "# Save the figure and show\n",
    "plt.tight_layout()\n",
    "plt.show()"
   ]
  },
  {
   "cell_type": "markdown",
   "metadata": {},
   "source": [
    "### Weight Decay Ablation"
   ]
  },
  {
   "cell_type": "code",
   "execution_count": 659,
   "metadata": {
    "scrolled": true
   },
   "outputs": [
    {
     "data": {
      "image/png": "[encoded data removed]",
      "text/plain": [
       "<Figure size 432x288 with 1 Axes>"
      ]
     },
     "metadata": {
      "needs_background": "light"
     },
     "output_type": "display_data"
    }
   ],
   "source": [
    "wd_ablation = [\n",
    "    15.50, 20.94, 15.85, 14.79, 18.32, 18.61, 30.00, 38.24, 61.48, 71.69\n",
    "]\n",
    "wd_ablation_values = [\n",
    "    0, 0.00001, 0.00002, 0.00005, 0.0001, 0.0002, 0.0005, 0.001, 0.002, 0.005\n",
    "]\n",
    "\n",
    "fig1, ax1 = plt.subplots()\n",
    "ax1.plot(wd_ablation_values, wd_ablation, marker='s')\n",
    "ax1.set_xscale('symlog', linthreshx=0.00002)\n",
    "ax1.set_ylabel('Error rate', fontsize=14)\n",
    "ax1.set_xlabel('Weight decay', fontsize=14)\n",
    "ax1.spines['right'].set_visible(False)\n",
    "ax1.spines['top'].set_visible(False)\n",
    "ax1.spines['left'].set_visible(False)\n",
    "ax1.axhline(y=min(wd_ablation),\n",
    "            xmin=0,\n",
    "            xmax=1,\n",
    "            color='red',\n",
    "            linestyle=':',\n",
    "            zorder=1)\n",
    "ax1.set_xticks(tickrange([0.00001, 0.0001, 0.001, 0.01]), minor=True)\n",
    "plt.grid()\n",
    "plt.tight_layout()\n",
    "plt.show()"
   ]
  },
  {
   "cell_type": "markdown",
   "metadata": {},
   "source": [
    "### Mu Ablation"
   ]
  },
  {
   "cell_type": "code",
   "execution_count": 660,
   "metadata": {
    "scrolled": true
   },
   "outputs": [
    {
     "data": {
      "image/png": "[encoded data removed]",
      "text/plain": [
       "<Figure size 432x288 with 1 Axes>"
      ]
     },
     "metadata": {
      "needs_background": "light"
     },
     "output_type": "display_data"
    }
   ],
   "source": [
    "mu_ablation = [28.88, 25.38, 17.56, 16.90, 100]\n",
    "mu_ablation_values = [1, 2, 4, 8, 16]\n",
    "\n",
    "fig1, ax1 = plt.subplots()\n",
    "ax1.plot(mu_ablation_values, mu_ablation, marker='s')\n",
    "ax1.set_ylabel('Error rate', fontsize=14)\n",
    "ax1.set_xlabel('$\\mu$', fontsize=14)\n",
    "ax1.spines['right'].set_visible(False)\n",
    "ax1.spines['top'].set_visible(False)\n",
    "ax1.spines['left'].set_visible(False)\n",
    "ax1.axhline(y=min(mu_ablation),\n",
    "            xmin=0,\n",
    "            xmax=1,\n",
    "            color='red',\n",
    "            linestyle=':',\n",
    "            zorder=1)\n",
    "plt.grid()\n",
    "plt.tight_layout()\n",
    "plt.show()"
   ]
  },
  {
   "cell_type": "markdown",
   "metadata": {},
   "source": [
    "### Augmentation Effect"
   ]
  },
  {
   "cell_type": "code",
   "execution_count": 749,
   "metadata": {},
   "outputs": [
    {
     "data": {
      "image/png": "[encoded data removed]",
      "text/plain": [
       "<Figure size 432x288 with 1 Axes>"
      ]
     },
     "metadata": {
      "needs_background": "light"
     },
     "output_type": "display_data"
    }
   ],
   "source": [
    "low_label_err = [\n",
    "    0.9863945578, 0.9961904762, 1.001904762, 1.002721088, 0.9632653061,\n",
    "    0.9785034014, 0.9561904762, 0.9640816327, 1.000544218, 0.9531972789,\n",
    "    0.9844897959, 0.9921088435, 0.9831292517, 0.8976870748, 0.9904761905,\n",
    "    0.973877551, 0.9953741497, 0.9420408163, 1\n",
    "]\n",
    "mid_label_err = [\n",
    "    0.9903435886, 0.9956209297, 1.003368516, 1.001347406, 0.9929261172,\n",
    "    0.9967437682, 0.9910172917, 0.9608129351, 0.9998877161, 0.9477880081,\n",
    "    0.9916909948, 0.986975073, 0.9875364923, 0.9426229508, 0.9849539636,\n",
    "    0.9873119245, 0.9991017292, 0.9611497867, 1\n",
    "]\n",
    "high_label_err = [\n",
    "    0.9903435886, 0.9956209297, 1.003368516, 1.001347406, 0.9929261172,\n",
    "    0.9967437682, 0.9910172917, 0.9608129351, 0.9998877161, 0.9477880081,\n",
    "    0.9916909948, 0.986975073, 0.9875364923, 0.9426229508, 0.9849539636,\n",
    "    0.9873119245, 0.9991017292, 0.9611497867, 1\n",
    "]\n",
    "\n",
    "n_augmentations = 19\n",
    "\n",
    "augmentations_mean = np.zeros((n_augmentations))\n",
    "augmentations_std = np.zeros((n_augmentations))\n",
    "\n",
    "for i in range(n_augmentations):\n",
    "    augmentations_mean[i] = np.mean(\n",
    "        [low_label_err[i], mid_label_err[i], high_label_err[i]])\n",
    "    augmentations_std[i] = np.std(\n",
    "        [low_label_err[i], mid_label_err[i], high_label_err[i]])\n",
    "\n",
    "label_amounts = [\n",
    "    'cutout', 'shift', 'mirror', 'autocontrast', 'brightness', 'color', 'contrast',\n",
    "    'equalize', 'posterize', 'rotate', 'sharpness', 'shear_x', 'shear_y',\n",
    "    'solarize', 'translate_x', 'translate_y', 'weak augment', 'strong augment',\n",
    "    'no augment'\n",
    "]\n",
    "x_pos = np.arange(len(label_amounts))\n",
    "y_ticks = np.arange(0.85, 1.10, 0.05)\n",
    "fig, ax = plt.subplots()\n",
    "ax.bar(x_pos,\n",
    "       augmentations_mean,\n",
    "       yerr=augmentations_std,\n",
    "       align='center',\n",
    "       alpha=0.8,\n",
    "       ecolor='black',\n",
    "       capsize=5)\n",
    "ax.set_ylabel('Relative accuracy', fontsize=14)\n",
    "ax.set_xlabel('Augmentation', fontsize=14)\n",
    "ax.set_xticks(x_pos)\n",
    "ax.set_xticklabels(label_amounts, rotation=90)\n",
    "ax.set_axisbelow(True)\n",
    "ax.yaxis.grid(True)\n",
    "ax.set_ylim(0.9, 1.02)\n",
    "ax.spines['right'].set_visible(False)\n",
    "ax.spines['top'].set_visible(False)\n",
    "ax.spines['left'].set_visible(False)\n",
    "\n",
    "# Save the figure and show\n",
    "plt.tight_layout()\n",
    "plt.show()"
   ]
  },
  {
   "cell_type": "markdown",
   "metadata": {},
   "source": [
    "## Augmentation Effect on Performance"
   ]
  },
  {
   "cell_type": "code",
   "execution_count": 662,
   "metadata": {},
   "outputs": [
    {
     "data": {
      "text/plain": [
       "<matplotlib.image.AxesImage at 0x7f78f9422100>"
      ]
     },
     "execution_count": 662,
     "metadata": {},
     "output_type": "execute_result"
    },
    {
     "data": {
      "image/png": "[encoded data removed]",
      "text/plain": [
       "<Figure size 432x288 with 1 Axes>"
      ]
     },
     "metadata": {
      "needs_background": "light"
     },
     "output_type": "display_data"
    }
   ],
   "source": [
    "(test, n_test_batches) = dataset_test_single_augmentation(batch_size, rotate)\n",
    "(img, _) = next(iter(tfds.as_numpy(test.unbatch().batch(1).take(1))))\n",
    "plt.imshow(img[0])"
   ]
  },
  {
   "cell_type": "code",
   "execution_count": 748,
   "metadata": {},
   "outputs": [
    {
     "name": "stdout",
     "output_type": "stream",
     "text": [
      "WARNING:tensorflow:No training configuration found in save file, so the model was *not* compiled. Compile it manually.\n"
     ]
    },
    {
     "data": {
      "application/vnd.jupyter.widget-view+json": {
       "model_id": "c7e32a0e8b1f414ca7bba419c2467ac2",
       "version_major": 2,
       "version_minor": 0
      },
      "text/plain": [
       "HBox(children=(IntProgress(value=0, max=5), HTML(value='')))"
      ]
     },
     "metadata": {},
     "output_type": "display_data"
    },
    {
     "name": "stdout",
     "output_type": "stream",
     "text": [
      "\n",
      "Mean=0.893551254272461   std=0.0003323142835635153\n"
     ]
    }
   ],
   "source": [
    "model = load_model('400_4')\n",
    "\n",
    "func = mirror\n",
    "batch_size = 512\n",
    "samples = 5\n",
    "\n",
    "acc = np.zeros(samples)\n",
    "(test, n_test_batches) = dataset_test_single_augmentation(batch_size, func)\n",
    "for i in tqdm(range(samples)):\n",
    "    acc[i] = run_test(test, n_test_batches)\n",
    "\n",
    "print(\"Mean=\" + str(acc.mean()) + \"   std=\" + str(acc.std()))"
   ]
  },
  {
   "cell_type": "markdown",
   "metadata": {
    "id": "9cxznjJNLGR8"
   },
   "source": [
    "# Grad-CAM Functions"
   ]
  },
  {
   "cell_type": "code",
   "execution_count": 698,
   "metadata": {
    "id": "CT3bta1e2fe_"
   },
   "outputs": [],
   "source": [
    "def find_last_conv_layer(model):\n",
    "    for layer in reversed(model.layers):\n",
    "        if len(layer.output_shape) == 4:\n",
    "            return layer\n",
    "    raise ValueError(\"Could not find conv layer. Cannot apply GradCAM.\")\n",
    "\n",
    "\n",
    "def make_gradcam_heatmap(images_array, model):\n",
    "    last_conv_layer = find_last_conv_layer(model)\n",
    "\n",
    "    last_conv_layer_model = Model(model.inputs, last_conv_layer.output)\n",
    "\n",
    "    classifier_input = Input(shape=last_conv_layer.output.shape[1:])\n",
    "    x = classifier_input\n",
    "\n",
    "    after_last_conv = False\n",
    "    classifier_layer_names = []\n",
    "    for layer in model.layers:\n",
    "        if after_last_conv:\n",
    "            classifier_layer_names.append(layer.name)\n",
    "        elif find_last_conv_layer(model).name == layer.name:\n",
    "            after_last_conv = True\n",
    "\n",
    "    for layer_name in classifier_layer_names:\n",
    "        x = model.get_layer(layer_name)(x)\n",
    "    classifier_model = Model(classifier_input, x)\n",
    "\n",
    "    with tf.GradientTape() as tape:\n",
    "        last_conv_layer_output = last_conv_layer_model(images_array)\n",
    "        tape.watch(last_conv_layer_output)\n",
    "        preds = classifier_model(last_conv_layer_output)\n",
    "        top_pred_index = tf.argmax(preds, axis=1)\n",
    "        one_hot_mask = tf.one_hot(\n",
    "            top_pred_index,\n",
    "            preds.shape[1],\n",
    "            on_value=True,\n",
    "            off_value=False,\n",
    "            dtype=tf.bool,\n",
    "        )\n",
    "        top_class_channel = tf.boolean_mask(preds, one_hot_mask)\n",
    "\n",
    "    grads = tape.gradient(top_class_channel, last_conv_layer_output)\n",
    "    pooled_grads = tf.reduce_mean(grads, axis=(1, 2))\n",
    "\n",
    "    last_conv_layer_output = last_conv_layer_output.numpy()\n",
    "    pooled_grads = pooled_grads.numpy()\n",
    "\n",
    "    for i in range(pooled_grads.shape[0]):\n",
    "        for j in range(pooled_grads.shape[-1]):\n",
    "            last_conv_layer_output[i, :, :, j] *= pooled_grads[i, j]\n",
    "\n",
    "    heatmap = np.mean(last_conv_layer_output, axis=-1)\n",
    "\n",
    "    max_heatmap = np.maximum(heatmap, 0)\n",
    "    for i in range(pooled_grads.shape[0]):\n",
    "        heatmap[i] = max_heatmap[i] / np.max(heatmap[i])\n",
    "\n",
    "    return heatmap\n",
    "\n",
    "\n",
    "def combine_heatmap_image(image_array, heatmap):\n",
    "    image_array = np.uint8(255 * image_array)\n",
    "    heatmap = np.uint8(255 * heatmap)\n",
    "\n",
    "    jet = cm.get_cmap(\"jet\")\n",
    "\n",
    "    jet_colors = jet(np.arange(256))[:, :3]\n",
    "\n",
    "    superimposed_imgs = np.zeros(image_array.shape)\n",
    "    for i, (hm, im) in enumerate(zip(heatmap, image_array)):\n",
    "        jet_heatmap = jet_colors[hm]\n",
    "\n",
    "        jet_heatmap = array_to_img(jet_heatmap)\n",
    "        jet_heatmap = jet_heatmap.resize(\n",
    "            (image_array.shape[1], image_array.shape[2]))\n",
    "        jet_heatmap = img_to_array(jet_heatmap)\n",
    "\n",
    "        superimposed_img = jet_heatmap * 0.6 + im\n",
    "        superimposed_img = array_to_img(superimposed_img)\n",
    "        superimposed_imgs[i] = superimposed_img\n",
    "\n",
    "    return superimposed_imgs / 255"
   ]
  },
  {
   "cell_type": "markdown",
   "metadata": {
    "id": "gJ1jlkB-LdPd"
   },
   "source": [
    "## Grad-CAM Experiments"
   ]
  },
  {
   "cell_type": "code",
   "execution_count": 753,
   "metadata": {
    "scrolled": false
   },
   "outputs": [
    {
     "name": "stdout",
     "output_type": "stream",
     "text": [
      "WARNING:tensorflow:No training configuration found in save file, so the model was *not* compiled. Compile it manually.\n"
     ]
    }
   ],
   "source": [
    "model = load_model('400_2')\n",
    "(test_grad,\n",
    " n_test_grad_batches) = dataset_test_gradcam_fixed(10,\n",
    "                                                   1,\n",
    "                                                   identity,\n",
    "                                                   autocontrast,\n",
    "                                                   solarize,\n",
    "                                                   shuffle_classes=True)\n",
    "\n",
    "# interesting stuff\n",
    "# seed 12, class seed 6"
   ]
  },
  {
   "cell_type": "code",
   "execution_count": 754,
   "metadata": {
    "colab": {
     "base_uri": "https://localhost:8080/",
     "height": 647
    },
    "id": "fWZw08pXG_i2",
    "outputId": "1d7cfd5b-e12b-41b4-b6eb-7b8c8468701d",
    "scrolled": false
   },
   "outputs": [
    {
     "data": {
      "image/png": "[encoded data removed]",
      "text/plain": [
       "<Figure size 720x720 with 3 Axes>"
      ]
     },
     "metadata": {},
     "output_type": "display_data"
    },
    {
     "data": {
      "image/png": "[encoded data removed]",
      "text/plain": [
       "<Figure size 720x720 with 3 Axes>"
      ]
     },
     "metadata": {},
     "output_type": "display_data"
    },
    {
     "data": {
      "image/png": "[encoded data removed]",
      "text/plain": [
       "<Figure size 720x720 with 3 Axes>"
      ]
     },
     "metadata": {},
     "output_type": "display_data"
    },
    {
     "data": {
      "image/png": "[encoded data removed]",
      "text/plain": [
       "<Figure size 720x720 with 3 Axes>"
      ]
     },
     "metadata": {},
     "output_type": "display_data"
    },
    {
     "data": {
      "image/png": "[encoded data removed]",
      "text/plain": [
       "<Figure size 720x720 with 3 Axes>"
      ]
     },
     "metadata": {},
     "output_type": "display_data"
    },
    {
     "data": {
      "image/png": "[encoded data removed]",
      "text/plain": [
       "<Figure size 720x720 with 3 Axes>"
      ]
     },
     "metadata": {},
     "output_type": "display_data"
    },
    {
     "data": {
      "image/png": "[encoded data removed]",
      "text/plain": [
       "<Figure size 720x720 with 3 Axes>"
      ]
     },
     "metadata": {},
     "output_type": "display_data"
    },
    {
     "data": {
      "image/png": "[encoded data removed]",
      "text/plain": [
       "<Figure size 720x720 with 3 Axes>"
      ]
     },
     "metadata": {},
     "output_type": "display_data"
    },
    {
     "data": {
      "image/png": "[encoded data removed]",
      "text/plain": [
       "<Figure size 720x720 with 3 Axes>"
      ]
     },
     "metadata": {},
     "output_type": "display_data"
    },
    {
     "data": {
      "image/png": "[encoded data removed]",
      "text/plain": [
       "<Figure size 720x720 with 3 Axes>"
      ]
     },
     "metadata": {},
     "output_type": "display_data"
    }
   ],
   "source": [
    "it = iter(tfds.as_numpy(test_grad.unbatch().batch(1).take(1).repeat()))\n",
    "\n",
    "classes = [\n",
    "    \"airplane\", \"automobile\", \"bird\", \"cat\", \"deer\", \"dog\", \"frog\", \"horse\",\n",
    "    \"ship\", \"truck\"\n",
    "]\n",
    "\n",
    "for i in range(10):\n",
    "    (c_a, w_a, s_a, labels) = next(it)\n",
    "    heatmap_c = make_gradcam_heatmap(c_a, model)\n",
    "    heatmap_w = make_gradcam_heatmap(w_a, model)\n",
    "    heatmap_s = make_gradcam_heatmap(s_a, model)\n",
    "    heatmap_c_img = combine_heatmap_image(c_a, heatmap_c)\n",
    "    heatmap_w_img = combine_heatmap_image(w_a, heatmap_w)\n",
    "    heatmap_s_img = combine_heatmap_image(s_a, heatmap_s)\n",
    "\n",
    "    f, axarr = plt.subplots(1, 3, figsize=(10, 10))\n",
    "\n",
    "    axarr[0].imshow(heatmap_c_img[0])\n",
    "    axarr[0].set_xlabel(classes[np.argmax(model(c_a), axis=1)[0]],\n",
    "                           fontsize=14)\n",
    "    axarr[0].set_xticks([])\n",
    "    axarr[0].set_xticks([], minor=True)\n",
    "    axarr[0].set_yticks([])\n",
    "    axarr[0].set_yticks([], minor=True)\n",
    "\n",
    "\n",
    "    axarr[1].imshow(heatmap_w_img[0])\n",
    "    axarr[1].set_xlabel(classes[np.argmax(model(w_a), axis=1)[0]],\n",
    "                           fontsize=14)\n",
    "    axarr[1].set_xticks([])\n",
    "    axarr[1].set_xticks([], minor=True)\n",
    "    axarr[1].set_yticks([])\n",
    "    axarr[1].set_yticks([], minor=True)\n",
    "\n",
    "    axarr[2].imshow(heatmap_s_img[0])\n",
    "    axarr[2].set_xlabel(classes[np.argmax(model(s_a), axis=1)[0]],\n",
    "                           fontsize=14)\n",
    "    axarr[2].set_xticks([])\n",
    "    axarr[2].set_xticks([], minor=True)\n",
    "    axarr[2].set_yticks([])\n",
    "    axarr[2].set_yticks([], minor=True)\n",
    "    plt.tight_layout()"
   ]
  },
  {
   "cell_type": "code",
   "execution_count": null,
   "metadata": {},
   "outputs": [],
   "source": []
  }
 ],
 "metadata": {
  "accelerator": "GPU",
  "colab": {
   "collapsed_sections": [],
   "name": "FixMatch MAIN.ipynb",
   "provenance": [],
   "toc_visible": true
  },
  "kernelspec": {
   "display_name": "science",
   "language": "python",
   "name": "sci"
  },
  "language_info": {
   "codemirror_mode": {
    "name": "ipython",
    "version": 3
   },
   "file_extension": ".py",
   "mimetype": "text/x-python",
   "name": "python",
   "nbconvert_exporter": "python",
   "pygments_lexer": "ipython3",
   "version": "3.8.2"
  },
  "toc": {
   "base_numbering": 1,
   "nav_menu": {},
   "number_sections": true,
   "sideBar": true,
   "skip_h1_title": false,
   "title_cell": "Table of Contents",
   "title_sidebar": "Contents",
   "toc_cell": false,
   "toc_position": {
    "height": "calc(100% - 180px)",
    "left": "10px",
    "top": "150px",
    "width": "225px"
   },
   "toc_section_display": true,
   "toc_window_display": true
  }
 },
 "nbformat": 4,
 "nbformat_minor": 1
}
